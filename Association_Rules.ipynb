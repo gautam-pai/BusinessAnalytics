{
  "cells": [
    {
      "cell_type": "markdown",
      "id": "a991a0ba-afd7-4e17-82c9-cc81975fe2d1",
      "metadata": {
        "id": "a991a0ba-afd7-4e17-82c9-cc81975fe2d1"
      },
      "source": [
        "## Import Statements"
      ]
    },
    {
      "cell_type": "code",
      "execution_count": null,
      "id": "f98234f5-c25f-4660-80a1-b7cfaaace26e",
      "metadata": {
        "id": "f98234f5-c25f-4660-80a1-b7cfaaace26e"
      },
      "outputs": [],
      "source": [
        "import pandas as pd\n",
        "import numpy as np\n",
        "from mlxtend.frequent_patterns import apriori, association_rules"
      ]
    },
    {
      "cell_type": "markdown",
      "id": "bd38312c-719f-46ef-862c-579c39fb1636",
      "metadata": {
        "id": "bd38312c-719f-46ef-862c-579c39fb1636"
      },
      "source": [
        "## Read Files"
      ]
    },
    {
      "cell_type": "code",
      "execution_count": null,
      "id": "522e388b-8d1b-4873-857d-7f273e5a7697",
      "metadata": {
        "scrolled": true,
        "id": "522e388b-8d1b-4873-857d-7f273e5a7697"
      },
      "outputs": [],
      "source": [
        "#df=pd.read_excel('/content/drive/MyDrive/Business Analytics /Dataset/OnlineRetail.xlsx')\n",
        "df=pd.read_excel('OnlineRetail.xlsx')"
      ]
    },
    {
      "cell_type": "markdown",
      "id": "0e29c43b-d212-4702-92c0-c071d6aa803c",
      "metadata": {
        "id": "0e29c43b-d212-4702-92c0-c071d6aa803c"
      },
      "source": [
        "## View Sample data"
      ]
    },
    {
      "cell_type": "code",
      "execution_count": null,
      "id": "418ab105-ffa9-4bda-9e88-51ebf7d815b3",
      "metadata": {
        "id": "418ab105-ffa9-4bda-9e88-51ebf7d815b3",
        "outputId": "6dd45381-7c55-4da8-d170-014e3e18c670"
      },
      "outputs": [
        {
          "data": {
            "text/html": [
              "<div>\n",
              "<style scoped>\n",
              "    .dataframe tbody tr th:only-of-type {\n",
              "        vertical-align: middle;\n",
              "    }\n",
              "\n",
              "    .dataframe tbody tr th {\n",
              "        vertical-align: top;\n",
              "    }\n",
              "\n",
              "    .dataframe thead th {\n",
              "        text-align: right;\n",
              "    }\n",
              "</style>\n",
              "<table border=\"1\" class=\"dataframe\">\n",
              "  <thead>\n",
              "    <tr style=\"text-align: right;\">\n",
              "      <th></th>\n",
              "      <th>InvoiceNo</th>\n",
              "      <th>StockCode</th>\n",
              "      <th>Description</th>\n",
              "      <th>Quantity</th>\n",
              "      <th>InvoiceDate</th>\n",
              "      <th>UnitPrice</th>\n",
              "      <th>CustomerID</th>\n",
              "      <th>Country</th>\n",
              "    </tr>\n",
              "  </thead>\n",
              "  <tbody>\n",
              "    <tr>\n",
              "      <th>0</th>\n",
              "      <td>536365</td>\n",
              "      <td>85123A</td>\n",
              "      <td>WHITE HANGING HEART T-LIGHT HOLDER</td>\n",
              "      <td>6</td>\n",
              "      <td>2010-12-01 08:26:00</td>\n",
              "      <td>2.55</td>\n",
              "      <td>17850.0</td>\n",
              "      <td>United Kingdom</td>\n",
              "    </tr>\n",
              "    <tr>\n",
              "      <th>1</th>\n",
              "      <td>536365</td>\n",
              "      <td>71053</td>\n",
              "      <td>WHITE METAL LANTERN</td>\n",
              "      <td>6</td>\n",
              "      <td>2010-12-01 08:26:00</td>\n",
              "      <td>3.39</td>\n",
              "      <td>17850.0</td>\n",
              "      <td>United Kingdom</td>\n",
              "    </tr>\n",
              "    <tr>\n",
              "      <th>2</th>\n",
              "      <td>536365</td>\n",
              "      <td>84406B</td>\n",
              "      <td>CREAM CUPID HEARTS COAT HANGER</td>\n",
              "      <td>8</td>\n",
              "      <td>2010-12-01 08:26:00</td>\n",
              "      <td>2.75</td>\n",
              "      <td>17850.0</td>\n",
              "      <td>United Kingdom</td>\n",
              "    </tr>\n",
              "    <tr>\n",
              "      <th>3</th>\n",
              "      <td>536365</td>\n",
              "      <td>84029G</td>\n",
              "      <td>KNITTED UNION FLAG HOT WATER BOTTLE</td>\n",
              "      <td>6</td>\n",
              "      <td>2010-12-01 08:26:00</td>\n",
              "      <td>3.39</td>\n",
              "      <td>17850.0</td>\n",
              "      <td>United Kingdom</td>\n",
              "    </tr>\n",
              "    <tr>\n",
              "      <th>4</th>\n",
              "      <td>536365</td>\n",
              "      <td>84029E</td>\n",
              "      <td>RED WOOLLY HOTTIE WHITE HEART.</td>\n",
              "      <td>6</td>\n",
              "      <td>2010-12-01 08:26:00</td>\n",
              "      <td>3.39</td>\n",
              "      <td>17850.0</td>\n",
              "      <td>United Kingdom</td>\n",
              "    </tr>\n",
              "    <tr>\n",
              "      <th>5</th>\n",
              "      <td>536365</td>\n",
              "      <td>22752</td>\n",
              "      <td>SET 7 BABUSHKA NESTING BOXES</td>\n",
              "      <td>2</td>\n",
              "      <td>2010-12-01 08:26:00</td>\n",
              "      <td>7.65</td>\n",
              "      <td>17850.0</td>\n",
              "      <td>United Kingdom</td>\n",
              "    </tr>\n",
              "    <tr>\n",
              "      <th>6</th>\n",
              "      <td>536365</td>\n",
              "      <td>21730</td>\n",
              "      <td>GLASS STAR FROSTED T-LIGHT HOLDER</td>\n",
              "      <td>6</td>\n",
              "      <td>2010-12-01 08:26:00</td>\n",
              "      <td>4.25</td>\n",
              "      <td>17850.0</td>\n",
              "      <td>United Kingdom</td>\n",
              "    </tr>\n",
              "    <tr>\n",
              "      <th>7</th>\n",
              "      <td>536366</td>\n",
              "      <td>22633</td>\n",
              "      <td>HAND WARMER UNION JACK</td>\n",
              "      <td>6</td>\n",
              "      <td>2010-12-01 08:28:00</td>\n",
              "      <td>1.85</td>\n",
              "      <td>17850.0</td>\n",
              "      <td>United Kingdom</td>\n",
              "    </tr>\n",
              "    <tr>\n",
              "      <th>8</th>\n",
              "      <td>536366</td>\n",
              "      <td>22632</td>\n",
              "      <td>HAND WARMER RED POLKA DOT</td>\n",
              "      <td>6</td>\n",
              "      <td>2010-12-01 08:28:00</td>\n",
              "      <td>1.85</td>\n",
              "      <td>17850.0</td>\n",
              "      <td>United Kingdom</td>\n",
              "    </tr>\n",
              "    <tr>\n",
              "      <th>9</th>\n",
              "      <td>536367</td>\n",
              "      <td>84879</td>\n",
              "      <td>ASSORTED COLOUR BIRD ORNAMENT</td>\n",
              "      <td>32</td>\n",
              "      <td>2010-12-01 08:34:00</td>\n",
              "      <td>1.69</td>\n",
              "      <td>13047.0</td>\n",
              "      <td>United Kingdom</td>\n",
              "    </tr>\n",
              "  </tbody>\n",
              "</table>\n",
              "</div>"
            ],
            "text/plain": [
              "  InvoiceNo StockCode                          Description  Quantity  \\\n",
              "0    536365    85123A   WHITE HANGING HEART T-LIGHT HOLDER         6   \n",
              "1    536365     71053                  WHITE METAL LANTERN         6   \n",
              "2    536365    84406B       CREAM CUPID HEARTS COAT HANGER         8   \n",
              "3    536365    84029G  KNITTED UNION FLAG HOT WATER BOTTLE         6   \n",
              "4    536365    84029E       RED WOOLLY HOTTIE WHITE HEART.         6   \n",
              "5    536365     22752         SET 7 BABUSHKA NESTING BOXES         2   \n",
              "6    536365     21730    GLASS STAR FROSTED T-LIGHT HOLDER         6   \n",
              "7    536366     22633               HAND WARMER UNION JACK         6   \n",
              "8    536366     22632            HAND WARMER RED POLKA DOT         6   \n",
              "9    536367     84879        ASSORTED COLOUR BIRD ORNAMENT        32   \n",
              "\n",
              "          InvoiceDate  UnitPrice  CustomerID         Country  \n",
              "0 2010-12-01 08:26:00       2.55     17850.0  United Kingdom  \n",
              "1 2010-12-01 08:26:00       3.39     17850.0  United Kingdom  \n",
              "2 2010-12-01 08:26:00       2.75     17850.0  United Kingdom  \n",
              "3 2010-12-01 08:26:00       3.39     17850.0  United Kingdom  \n",
              "4 2010-12-01 08:26:00       3.39     17850.0  United Kingdom  \n",
              "5 2010-12-01 08:26:00       7.65     17850.0  United Kingdom  \n",
              "6 2010-12-01 08:26:00       4.25     17850.0  United Kingdom  \n",
              "7 2010-12-01 08:28:00       1.85     17850.0  United Kingdom  \n",
              "8 2010-12-01 08:28:00       1.85     17850.0  United Kingdom  \n",
              "9 2010-12-01 08:34:00       1.69     13047.0  United Kingdom  "
            ]
          },
          "execution_count": 8,
          "metadata": {},
          "output_type": "execute_result"
        }
      ],
      "source": [
        "df.head(10)"
      ]
    },
    {
      "cell_type": "code",
      "execution_count": null,
      "id": "37a47e4f-cc16-4ad4-b36b-8f0c513ffcd5",
      "metadata": {
        "id": "37a47e4f-cc16-4ad4-b36b-8f0c513ffcd5",
        "outputId": "7eac87c4-38f1-4c92-de66-02f223a211db"
      },
      "outputs": [
        {
          "data": {
            "text/plain": [
              "array(['United Kingdom', 'France', 'Australia', 'Netherlands', 'Germany',\n",
              "       'Norway', 'EIRE', 'Switzerland', 'Spain', 'Poland', 'Portugal',\n",
              "       'Italy', 'Belgium', 'Lithuania', 'Japan', 'Iceland',\n",
              "       'Channel Islands', 'Denmark', 'Cyprus', 'Sweden', 'Austria',\n",
              "       'Israel', 'Finland', 'Bahrain', 'Greece', 'Hong Kong', 'Singapore',\n",
              "       'Lebanon', 'United Arab Emirates', 'Saudi Arabia',\n",
              "       'Czech Republic', 'Canada', 'Unspecified', 'Brazil', 'USA',\n",
              "       'European Community', 'Malta', 'RSA'], dtype=object)"
            ]
          },
          "execution_count": 9,
          "metadata": {},
          "output_type": "execute_result"
        }
      ],
      "source": [
        "# Find unique Country\n",
        "df['Country'].unique()"
      ]
    },
    {
      "cell_type": "markdown",
      "id": "caadd5c8-88cf-4b76-a8ec-b1c0377726aa",
      "metadata": {
        "id": "caadd5c8-88cf-4b76-a8ec-b1c0377726aa"
      },
      "source": [
        "## Pre-processing"
      ]
    },
    {
      "cell_type": "code",
      "execution_count": null,
      "id": "a1a61c21-ed4c-40b9-896b-9c39e7774159",
      "metadata": {
        "id": "a1a61c21-ed4c-40b9-896b-9c39e7774159"
      },
      "outputs": [],
      "source": [
        "df_cleaned=df[df['Quantity']>0]\n",
        "df_cleaned=df_cleaned.dropna()\n",
        "df_cleaned['Description'] = df_cleaned['Description'].str.strip()"
      ]
    },
    {
      "cell_type": "code",
      "execution_count": null,
      "id": "5da4fd6a-e943-4109-8b80-120b419002a3",
      "metadata": {
        "id": "5da4fd6a-e943-4109-8b80-120b419002a3",
        "outputId": "aa3cdb69-f462-47ae-ef45-ce3ec123d9d1"
      },
      "outputs": [
        {
          "data": {
            "text/plain": [
              "InvoiceNo      0\n",
              "StockCode      0\n",
              "Description    0\n",
              "Quantity       0\n",
              "InvoiceDate    0\n",
              "UnitPrice      0\n",
              "CustomerID     0\n",
              "Country        0\n",
              "dtype: int64"
            ]
          },
          "execution_count": 12,
          "metadata": {},
          "output_type": "execute_result"
        }
      ],
      "source": [
        "df_cleaned.isnull().sum()"
      ]
    },
    {
      "cell_type": "markdown",
      "id": "d03a63a4-1e3f-4dfa-8c31-cfcbc1f2b6ff",
      "metadata": {
        "id": "d03a63a4-1e3f-4dfa-8c31-cfcbc1f2b6ff"
      },
      "source": [
        "## Selecting Data / Sample Selection"
      ]
    },
    {
      "cell_type": "code",
      "execution_count": null,
      "id": "553bfe39-d6db-4a2a-b5ae-b4a64f25014e",
      "metadata": {
        "id": "553bfe39-d6db-4a2a-b5ae-b4a64f25014e"
      },
      "outputs": [],
      "source": [
        "\n",
        "#df_USA = df_cleaned[df_cleaned['Country'] ==\"USA\"].groupby(['InvoiceNo', 'Description'])['Quantity'].sum().unstack().reset_index().set_index('InvoiceNo')\n",
        "\n",
        "df_France = df_cleaned[df_cleaned['Country'] ==\"France\"].groupby(['InvoiceNo', 'Description'])['Quantity'].sum().unstack().reset_index().set_index('InvoiceNo')\n",
        "\n",
        "#df_UnitedKingdom = df_cleaned[df_cleaned['Country'] ==\"United Kingdom\"].groupby(['InvoiceNo', 'Description'])['Quantity'].sum().unstack().reset_index().set_index('InvoiceNo')\n",
        "\n",
        "#df_Germany = df_cleaned[df_cleaned['Country'] ==\"Germany\"].groupby(['InvoiceNo', 'Description'])['Quantity'].sum().unstack().reset_index().set_index('InvoiceNo')\n",
        "\n",
        "#df_Finland = df_cleaned[df_cleaned['Country'] ==\"Finland\"].groupby(['InvoiceNo', 'Description'])['Quantity'].sum().unstack().reset_index().set_index('InvoiceNo')\n"
      ]
    },
    {
      "cell_type": "code",
      "execution_count": null,
      "id": "76407c12-de5e-49f1-9d86-09028a138190",
      "metadata": {
        "id": "76407c12-de5e-49f1-9d86-09028a138190"
      },
      "outputs": [],
      "source": [
        "# Basket encoding\n",
        "\n",
        "#basket_encoded_USA = df_USA.map(lambda x: True if x > 0 else False)\n",
        "\n",
        "basket_encoded_France = df_France.map(lambda x: True if x > 0 else False)\n",
        "\n",
        "#basket_encoded_UnitedKingdom = df_UnitedKingdom.map(lambda x: True if x > 0 else False)\n",
        "\n",
        "#basket_encoded_Germany = df_Germany.map(lambda x: True if x > 0 else False)\n",
        "\n",
        "#basket_encoded_Finland = df_Finland.map(lambda x: True if x > 0 else False)"
      ]
    },
    {
      "cell_type": "markdown",
      "id": "0a49babc-2825-4098-91c3-b45740e756ac",
      "metadata": {
        "id": "0a49babc-2825-4098-91c3-b45740e756ac"
      },
      "source": [
        "## Apriori Algorithm"
      ]
    },
    {
      "cell_type": "markdown",
      "id": "7f3125ef-6467-418f-848f-54a8a8681659",
      "metadata": {
        "id": "7f3125ef-6467-418f-848f-54a8a8681659"
      },
      "source": [
        "#### Finding Frequent Itemsets"
      ]
    },
    {
      "cell_type": "code",
      "execution_count": null,
      "id": "e923bb1a-acfb-426a-9ae3-824aa0b2c98b",
      "metadata": {
        "id": "e923bb1a-acfb-426a-9ae3-824aa0b2c98b"
      },
      "outputs": [],
      "source": [
        "#frequent_itemsets_USA = apriori(basket_encoded_USA, min_support=0.15, use_colnames=True)\n",
        "\n",
        "frequent_itemsets_France = apriori(basket_encoded_France, min_support=0.15, use_colnames=True)\n",
        "\n",
        "#frequent_itemsets_UnitedKingdom = apriori(basket_encoded_UnitedKingdom, min_support=0.15, use_colnames=True)\n",
        "\n",
        "#frequent_itemsets_Germany = apriori(basket_encoded_Germany, min_support=0.15, use_colnames=True)\n",
        "\n",
        "#frequent_itemsets_Finland = apriori(basket_encoded_Finland, min_support=0.15, use_colnames=True)\n"
      ]
    },
    {
      "cell_type": "markdown",
      "id": "4c3f9999-ba93-4e35-a927-3f4eb012b311",
      "metadata": {
        "id": "4c3f9999-ba93-4e35-a927-3f4eb012b311"
      },
      "source": [
        "#### Pass the frequent itemset to Apriori algorithm"
      ]
    },
    {
      "cell_type": "code",
      "execution_count": null,
      "id": "df3beb94-7a42-40c2-994c-bcc630fe1acf",
      "metadata": {
        "id": "df3beb94-7a42-40c2-994c-bcc630fe1acf"
      },
      "outputs": [],
      "source": [
        "#rules_USA = association_rules(frequent_itemsets_USA, metric=\"lift\", min_threshold=1)\n",
        "\n",
        "rules_France = association_rules(frequent_itemsets_France, metric=\"lift\", min_threshold=1)\n",
        "\n",
        "#rules_UnitedKingdom = association_rules(frequent_itemsets_UnitedKingdom, metric=\"lift\", min_threshold=1)\n",
        "\n",
        "#rules_Germany = association_rules(frequent_itemsets_Germany, metric=\"lift\", min_threshold=1)\n",
        "\n",
        "#rules_Finland = association_rules(frequent_itemsets_Finland, metric=\"lift\", min_threshold=1)\n"
      ]
    },
    {
      "cell_type": "markdown",
      "id": "3fcdc38f-156f-47c3-bfc0-ab319f62aeb0",
      "metadata": {
        "id": "3fcdc38f-156f-47c3-bfc0-ab319f62aeb0"
      },
      "source": [
        "#### Generate valid rules"
      ]
    },
    {
      "cell_type": "code",
      "execution_count": null,
      "id": "b0a4b927-e6b1-4925-a3bf-b752b5660ce8",
      "metadata": {
        "id": "b0a4b927-e6b1-4925-a3bf-b752b5660ce8",
        "outputId": "137f4365-9e88-458e-aedb-5c63c406d38c"
      },
      "outputs": [
        {
          "name": "stdout",
          "output_type": "stream",
          "text": [
            "Valid rules for France-\n",
            "                       antecedents                      consequents   support  \\\n",
            "0                        (POSTAGE)             (RABBIT NIGHT LIGHT)  0.167095   \n",
            "1             (RABBIT NIGHT LIGHT)                        (POSTAGE)  0.167095   \n",
            "2  (RED TOADSTOOL LED NIGHT LIGHT)                        (POSTAGE)  0.159383   \n",
            "3                        (POSTAGE)  (RED TOADSTOOL LED NIGHT LIGHT)  0.159383   \n",
            "\n",
            "   confidence      lift  \n",
            "0    0.216667  1.154566  \n",
            "1    0.890411  1.154566  \n",
            "2    0.885714  1.148476  \n",
            "3    0.206667  1.148476   \n",
            "\n",
            "\n",
            "\n"
          ]
        }
      ],
      "source": [
        "#print(\"Valid rules for USA-\")\n",
        "#print(rules_USA[['antecedents', 'consequents', 'support', 'confidence', 'lift']],'\\n\\n\\n')\n",
        "\n",
        "print(\"Valid rules for France-\")\n",
        "print(rules_France[['antecedents', 'consequents', 'support', 'confidence', 'lift']],'\\n\\n\\n')\n",
        "\n",
        "#print(\"Valid rules for UnitedKingdom-\")\n",
        "#print(rules_UnitedKingdom[['antecedents', 'consequents', 'support', 'confidence', 'lift']],'\\n\\n\\n')\n",
        "\n",
        "#print(\"Valid rules for Germany-\")\n",
        "#print(rules_Germany[['antecedents', 'consequents', 'support', 'confidence', 'lift']],'\\n\\n\\n')\n",
        "\n",
        "#print(\"Valid rules for Finland-\")\n",
        "#print(rules_Finland[['antecedents', 'consequents', 'support', 'confidence', 'lift']],'\\n\\n\\n')\n"
      ]
    },
    {
      "cell_type": "code",
      "execution_count": null,
      "id": "0a6f0e08-4c67-41c4-8a48-cb60ac494bd9",
      "metadata": {
        "id": "0a6f0e08-4c67-41c4-8a48-cb60ac494bd9"
      },
      "outputs": [],
      "source": []
    }
  ],
  "metadata": {
    "kernelspec": {
      "display_name": "Python 3 (ipykernel)",
      "language": "python",
      "name": "python3"
    },
    "language_info": {
      "codemirror_mode": {
        "name": "ipython",
        "version": 3
      },
      "file_extension": ".py",
      "mimetype": "text/x-python",
      "name": "python",
      "nbconvert_exporter": "python",
      "pygments_lexer": "ipython3",
      "version": "3.12.4"
    },
    "colab": {
      "provenance": []
    }
  },
  "nbformat": 4,
  "nbformat_minor": 5
}