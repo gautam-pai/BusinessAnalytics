{
  "cells": [
    {
      "cell_type": "markdown",
      "metadata": {
        "id": "view-in-github",
        "colab_type": "text"
      },
      "source": [
        "<a href=\"https://colab.research.google.com/github/gautam-pai/BusinessAnalytics/blob/main/Time_Based_Segmentation.ipynb\" target=\"_parent\"><img src=\"https://colab.research.google.com/assets/colab-badge.svg\" alt=\"Open In Colab\"/></a>"
      ]
    },
    {
      "cell_type": "code",
      "execution_count": null,
      "id": "852851da-0b77-4bfd-a0d9-c01bb2fbf296",
      "metadata": {
        "id": "852851da-0b77-4bfd-a0d9-c01bb2fbf296"
      },
      "outputs": [],
      "source": [
        "#from google.colab import drive\n",
        "#drive.mount('/content/drive')"
      ]
    },
    {
      "cell_type": "code",
      "execution_count": null,
      "id": "554df52e-0197-48cf-811d-d666d2e81009",
      "metadata": {
        "id": "554df52e-0197-48cf-811d-d666d2e81009"
      },
      "outputs": [],
      "source": [
        "import pandas as pd\n",
        "import numpy as np\n",
        "import matplotlib.pyplot as plt\n",
        "from sklearn.cluster import KMeans\n",
        "from sklearn.preprocessing import StandardScaler\n",
        "from datetime import datetime"
      ]
    },
    {
      "cell_type": "code",
      "execution_count": null,
      "id": "4bab1323-9c4f-48ca-b8b6-aeac2b3f2359",
      "metadata": {
        "id": "4bab1323-9c4f-48ca-b8b6-aeac2b3f2359"
      },
      "outputs": [],
      "source": [
        "#df=pd.read_excel('/content/drive/MyDrive/Business Analytics /Dataset/OnlineRetail.xlsx')\n",
        "df=pd.read_excel('OnlineRetail.xlsx')"
      ]
    },
    {
      "cell_type": "code",
      "execution_count": null,
      "id": "71b6f8bc-ada2-4259-89b2-1c47e763cc86",
      "metadata": {
        "id": "71b6f8bc-ada2-4259-89b2-1c47e763cc86",
        "outputId": "b2293cd6-c2f8-4053-fd04-54bb95bb0064"
      },
      "outputs": [
        {
          "data": {
            "text/html": [
              "<div>\n",
              "<style scoped>\n",
              "    .dataframe tbody tr th:only-of-type {\n",
              "        vertical-align: middle;\n",
              "    }\n",
              "\n",
              "    .dataframe tbody tr th {\n",
              "        vertical-align: top;\n",
              "    }\n",
              "\n",
              "    .dataframe thead th {\n",
              "        text-align: right;\n",
              "    }\n",
              "</style>\n",
              "<table border=\"1\" class=\"dataframe\">\n",
              "  <thead>\n",
              "    <tr style=\"text-align: right;\">\n",
              "      <th></th>\n",
              "      <th>InvoiceNo</th>\n",
              "      <th>StockCode</th>\n",
              "      <th>Description</th>\n",
              "      <th>Quantity</th>\n",
              "      <th>InvoiceDate</th>\n",
              "      <th>UnitPrice</th>\n",
              "      <th>CustomerID</th>\n",
              "      <th>Country</th>\n",
              "    </tr>\n",
              "  </thead>\n",
              "  <tbody>\n",
              "    <tr>\n",
              "      <th>0</th>\n",
              "      <td>536365</td>\n",
              "      <td>85123A</td>\n",
              "      <td>WHITE HANGING HEART T-LIGHT HOLDER</td>\n",
              "      <td>6</td>\n",
              "      <td>2010-12-01 08:26:00</td>\n",
              "      <td>2.55</td>\n",
              "      <td>17850.0</td>\n",
              "      <td>United Kingdom</td>\n",
              "    </tr>\n",
              "    <tr>\n",
              "      <th>1</th>\n",
              "      <td>536365</td>\n",
              "      <td>71053</td>\n",
              "      <td>WHITE METAL LANTERN</td>\n",
              "      <td>6</td>\n",
              "      <td>2010-12-01 08:26:00</td>\n",
              "      <td>3.39</td>\n",
              "      <td>17850.0</td>\n",
              "      <td>United Kingdom</td>\n",
              "    </tr>\n",
              "    <tr>\n",
              "      <th>2</th>\n",
              "      <td>536365</td>\n",
              "      <td>84406B</td>\n",
              "      <td>CREAM CUPID HEARTS COAT HANGER</td>\n",
              "      <td>8</td>\n",
              "      <td>2010-12-01 08:26:00</td>\n",
              "      <td>2.75</td>\n",
              "      <td>17850.0</td>\n",
              "      <td>United Kingdom</td>\n",
              "    </tr>\n",
              "    <tr>\n",
              "      <th>3</th>\n",
              "      <td>536365</td>\n",
              "      <td>84029G</td>\n",
              "      <td>KNITTED UNION FLAG HOT WATER BOTTLE</td>\n",
              "      <td>6</td>\n",
              "      <td>2010-12-01 08:26:00</td>\n",
              "      <td>3.39</td>\n",
              "      <td>17850.0</td>\n",
              "      <td>United Kingdom</td>\n",
              "    </tr>\n",
              "    <tr>\n",
              "      <th>4</th>\n",
              "      <td>536365</td>\n",
              "      <td>84029E</td>\n",
              "      <td>RED WOOLLY HOTTIE WHITE HEART.</td>\n",
              "      <td>6</td>\n",
              "      <td>2010-12-01 08:26:00</td>\n",
              "      <td>3.39</td>\n",
              "      <td>17850.0</td>\n",
              "      <td>United Kingdom</td>\n",
              "    </tr>\n",
              "    <tr>\n",
              "      <th>5</th>\n",
              "      <td>536365</td>\n",
              "      <td>22752</td>\n",
              "      <td>SET 7 BABUSHKA NESTING BOXES</td>\n",
              "      <td>2</td>\n",
              "      <td>2010-12-01 08:26:00</td>\n",
              "      <td>7.65</td>\n",
              "      <td>17850.0</td>\n",
              "      <td>United Kingdom</td>\n",
              "    </tr>\n",
              "    <tr>\n",
              "      <th>6</th>\n",
              "      <td>536365</td>\n",
              "      <td>21730</td>\n",
              "      <td>GLASS STAR FROSTED T-LIGHT HOLDER</td>\n",
              "      <td>6</td>\n",
              "      <td>2010-12-01 08:26:00</td>\n",
              "      <td>4.25</td>\n",
              "      <td>17850.0</td>\n",
              "      <td>United Kingdom</td>\n",
              "    </tr>\n",
              "    <tr>\n",
              "      <th>7</th>\n",
              "      <td>536366</td>\n",
              "      <td>22633</td>\n",
              "      <td>HAND WARMER UNION JACK</td>\n",
              "      <td>6</td>\n",
              "      <td>2010-12-01 08:28:00</td>\n",
              "      <td>1.85</td>\n",
              "      <td>17850.0</td>\n",
              "      <td>United Kingdom</td>\n",
              "    </tr>\n",
              "    <tr>\n",
              "      <th>8</th>\n",
              "      <td>536366</td>\n",
              "      <td>22632</td>\n",
              "      <td>HAND WARMER RED POLKA DOT</td>\n",
              "      <td>6</td>\n",
              "      <td>2010-12-01 08:28:00</td>\n",
              "      <td>1.85</td>\n",
              "      <td>17850.0</td>\n",
              "      <td>United Kingdom</td>\n",
              "    </tr>\n",
              "    <tr>\n",
              "      <th>9</th>\n",
              "      <td>536367</td>\n",
              "      <td>84879</td>\n",
              "      <td>ASSORTED COLOUR BIRD ORNAMENT</td>\n",
              "      <td>32</td>\n",
              "      <td>2010-12-01 08:34:00</td>\n",
              "      <td>1.69</td>\n",
              "      <td>13047.0</td>\n",
              "      <td>United Kingdom</td>\n",
              "    </tr>\n",
              "  </tbody>\n",
              "</table>\n",
              "</div>"
            ],
            "text/plain": [
              "  InvoiceNo StockCode                          Description  Quantity  \\\n",
              "0    536365    85123A   WHITE HANGING HEART T-LIGHT HOLDER         6   \n",
              "1    536365     71053                  WHITE METAL LANTERN         6   \n",
              "2    536365    84406B       CREAM CUPID HEARTS COAT HANGER         8   \n",
              "3    536365    84029G  KNITTED UNION FLAG HOT WATER BOTTLE         6   \n",
              "4    536365    84029E       RED WOOLLY HOTTIE WHITE HEART.         6   \n",
              "5    536365     22752         SET 7 BABUSHKA NESTING BOXES         2   \n",
              "6    536365     21730    GLASS STAR FROSTED T-LIGHT HOLDER         6   \n",
              "7    536366     22633               HAND WARMER UNION JACK         6   \n",
              "8    536366     22632            HAND WARMER RED POLKA DOT         6   \n",
              "9    536367     84879        ASSORTED COLOUR BIRD ORNAMENT        32   \n",
              "\n",
              "          InvoiceDate  UnitPrice  CustomerID         Country  \n",
              "0 2010-12-01 08:26:00       2.55     17850.0  United Kingdom  \n",
              "1 2010-12-01 08:26:00       3.39     17850.0  United Kingdom  \n",
              "2 2010-12-01 08:26:00       2.75     17850.0  United Kingdom  \n",
              "3 2010-12-01 08:26:00       3.39     17850.0  United Kingdom  \n",
              "4 2010-12-01 08:26:00       3.39     17850.0  United Kingdom  \n",
              "5 2010-12-01 08:26:00       7.65     17850.0  United Kingdom  \n",
              "6 2010-12-01 08:26:00       4.25     17850.0  United Kingdom  \n",
              "7 2010-12-01 08:28:00       1.85     17850.0  United Kingdom  \n",
              "8 2010-12-01 08:28:00       1.85     17850.0  United Kingdom  \n",
              "9 2010-12-01 08:34:00       1.69     13047.0  United Kingdom  "
            ]
          },
          "execution_count": 5,
          "metadata": {},
          "output_type": "execute_result"
        }
      ],
      "source": [
        "df.head(10)"
      ]
    },
    {
      "cell_type": "code",
      "execution_count": null,
      "id": "9fba4bf4-2642-4523-ac93-1f6aa86935d2",
      "metadata": {
        "id": "9fba4bf4-2642-4523-ac93-1f6aa86935d2",
        "outputId": "3302a21a-b5c6-49ba-9463-d331a2067c4c"
      },
      "outputs": [
        {
          "data": {
            "text/plain": [
              "(541909, 8)"
            ]
          },
          "execution_count": 9,
          "metadata": {},
          "output_type": "execute_result"
        }
      ],
      "source": [
        "df.shape"
      ]
    },
    {
      "cell_type": "code",
      "execution_count": null,
      "id": "222f28aa-a985-43c6-903e-c46eda0ed38f",
      "metadata": {
        "id": "222f28aa-a985-43c6-903e-c46eda0ed38f",
        "outputId": "1e86a027-45a5-46df-a285-db7a5fb9194c"
      },
      "outputs": [
        {
          "name": "stdout",
          "output_type": "stream",
          "text": [
            "InvoiceNo      0\n",
            "StockCode      0\n",
            "Description    0\n",
            "Quantity       0\n",
            "InvoiceDate    0\n",
            "UnitPrice      0\n",
            "CustomerID     0\n",
            "Country        0\n",
            "dtype: int64\n"
          ]
        }
      ],
      "source": [
        "df_cleaned=df[df['Quantity']>0]\n",
        "df_cleaned=df_cleaned[df_cleaned['Description'].str.contains(\".*?\", na=False)]\n",
        "df_cleaned=df_cleaned.dropna()\n",
        "print(df_cleaned.isnull().sum())"
      ]
    },
    {
      "cell_type": "code",
      "execution_count": null,
      "id": "2d6e8996-75ed-44b4-9ae4-a1a65c4f86e1",
      "metadata": {
        "id": "2d6e8996-75ed-44b4-9ae4-a1a65c4f86e1",
        "outputId": "c74da59b-08ed-4268-9b71-dd169f7933a7"
      },
      "outputs": [
        {
          "data": {
            "text/plain": [
              "(397924, 8)"
            ]
          },
          "execution_count": 11,
          "metadata": {},
          "output_type": "execute_result"
        }
      ],
      "source": [
        "df_cleaned.shape"
      ]
    },
    {
      "cell_type": "code",
      "execution_count": null,
      "id": "dcf52d90-90ca-4dd4-ad64-f2da5a4ebfbd",
      "metadata": {
        "id": "dcf52d90-90ca-4dd4-ad64-f2da5a4ebfbd",
        "outputId": "30de47a5-f6f7-4280-ab50-c08eff5f43e0"
      },
      "outputs": [
        {
          "data": {
            "text/plain": [
              "Index(['InvoiceNo', 'StockCode', 'Description', 'Quantity', 'InvoiceDate',\n",
              "       'UnitPrice', 'CustomerID', 'Country'],\n",
              "      dtype='object')"
            ]
          },
          "execution_count": 13,
          "metadata": {},
          "output_type": "execute_result"
        }
      ],
      "source": [
        "df_cleaned.columns"
      ]
    },
    {
      "cell_type": "code",
      "execution_count": null,
      "id": "9e618faf-df84-46ce-92f1-c14b1d0ea684",
      "metadata": {
        "id": "9e618faf-df84-46ce-92f1-c14b1d0ea684"
      },
      "outputs": [],
      "source": [
        "df_cleaned[\"Expenditure\"]=df_cleaned['Quantity']*df_cleaned['UnitPrice']"
      ]
    },
    {
      "cell_type": "code",
      "execution_count": null,
      "id": "20cc9929-b5f1-49db-a2f4-1d054cdae247",
      "metadata": {
        "id": "20cc9929-b5f1-49db-a2f4-1d054cdae247"
      },
      "outputs": [],
      "source": [
        "df_cleaned['Month']=df_cleaned['InvoiceDate'].dt.month"
      ]
    },
    {
      "cell_type": "code",
      "execution_count": null,
      "id": "6ffdf7c5-4891-4004-989e-64c551dd230f",
      "metadata": {
        "id": "6ffdf7c5-4891-4004-989e-64c551dd230f",
        "outputId": "bcaccab9-0835-4c4b-a2e9-fa9fe38fbd92"
      },
      "outputs": [
        {
          "data": {
            "text/html": [
              "<div>\n",
              "<style scoped>\n",
              "    .dataframe tbody tr th:only-of-type {\n",
              "        vertical-align: middle;\n",
              "    }\n",
              "\n",
              "    .dataframe tbody tr th {\n",
              "        vertical-align: top;\n",
              "    }\n",
              "\n",
              "    .dataframe thead th {\n",
              "        text-align: right;\n",
              "    }\n",
              "</style>\n",
              "<table border=\"1\" class=\"dataframe\">\n",
              "  <thead>\n",
              "    <tr style=\"text-align: right;\">\n",
              "      <th></th>\n",
              "      <th>InvoiceNo</th>\n",
              "      <th>StockCode</th>\n",
              "      <th>Description</th>\n",
              "      <th>Quantity</th>\n",
              "      <th>InvoiceDate</th>\n",
              "      <th>UnitPrice</th>\n",
              "      <th>CustomerID</th>\n",
              "      <th>Country</th>\n",
              "      <th>Month</th>\n",
              "      <th>Expenditure</th>\n",
              "    </tr>\n",
              "  </thead>\n",
              "  <tbody>\n",
              "    <tr>\n",
              "      <th>0</th>\n",
              "      <td>536365</td>\n",
              "      <td>85123A</td>\n",
              "      <td>WHITE HANGING HEART T-LIGHT HOLDER</td>\n",
              "      <td>6</td>\n",
              "      <td>2010-12-01 08:26:00</td>\n",
              "      <td>2.55</td>\n",
              "      <td>17850.0</td>\n",
              "      <td>United Kingdom</td>\n",
              "      <td>12</td>\n",
              "      <td>15.30</td>\n",
              "    </tr>\n",
              "    <tr>\n",
              "      <th>1</th>\n",
              "      <td>536365</td>\n",
              "      <td>71053</td>\n",
              "      <td>WHITE METAL LANTERN</td>\n",
              "      <td>6</td>\n",
              "      <td>2010-12-01 08:26:00</td>\n",
              "      <td>3.39</td>\n",
              "      <td>17850.0</td>\n",
              "      <td>United Kingdom</td>\n",
              "      <td>12</td>\n",
              "      <td>20.34</td>\n",
              "    </tr>\n",
              "    <tr>\n",
              "      <th>2</th>\n",
              "      <td>536365</td>\n",
              "      <td>84406B</td>\n",
              "      <td>CREAM CUPID HEARTS COAT HANGER</td>\n",
              "      <td>8</td>\n",
              "      <td>2010-12-01 08:26:00</td>\n",
              "      <td>2.75</td>\n",
              "      <td>17850.0</td>\n",
              "      <td>United Kingdom</td>\n",
              "      <td>12</td>\n",
              "      <td>22.00</td>\n",
              "    </tr>\n",
              "    <tr>\n",
              "      <th>3</th>\n",
              "      <td>536365</td>\n",
              "      <td>84029G</td>\n",
              "      <td>KNITTED UNION FLAG HOT WATER BOTTLE</td>\n",
              "      <td>6</td>\n",
              "      <td>2010-12-01 08:26:00</td>\n",
              "      <td>3.39</td>\n",
              "      <td>17850.0</td>\n",
              "      <td>United Kingdom</td>\n",
              "      <td>12</td>\n",
              "      <td>20.34</td>\n",
              "    </tr>\n",
              "    <tr>\n",
              "      <th>4</th>\n",
              "      <td>536365</td>\n",
              "      <td>84029E</td>\n",
              "      <td>RED WOOLLY HOTTIE WHITE HEART.</td>\n",
              "      <td>6</td>\n",
              "      <td>2010-12-01 08:26:00</td>\n",
              "      <td>3.39</td>\n",
              "      <td>17850.0</td>\n",
              "      <td>United Kingdom</td>\n",
              "      <td>12</td>\n",
              "      <td>20.34</td>\n",
              "    </tr>\n",
              "  </tbody>\n",
              "</table>\n",
              "</div>"
            ],
            "text/plain": [
              "  InvoiceNo StockCode                          Description  Quantity  \\\n",
              "0    536365    85123A   WHITE HANGING HEART T-LIGHT HOLDER         6   \n",
              "1    536365     71053                  WHITE METAL LANTERN         6   \n",
              "2    536365    84406B       CREAM CUPID HEARTS COAT HANGER         8   \n",
              "3    536365    84029G  KNITTED UNION FLAG HOT WATER BOTTLE         6   \n",
              "4    536365    84029E       RED WOOLLY HOTTIE WHITE HEART.         6   \n",
              "\n",
              "          InvoiceDate  UnitPrice  CustomerID         Country  Month  \\\n",
              "0 2010-12-01 08:26:00       2.55     17850.0  United Kingdom     12   \n",
              "1 2010-12-01 08:26:00       3.39     17850.0  United Kingdom     12   \n",
              "2 2010-12-01 08:26:00       2.75     17850.0  United Kingdom     12   \n",
              "3 2010-12-01 08:26:00       3.39     17850.0  United Kingdom     12   \n",
              "4 2010-12-01 08:26:00       3.39     17850.0  United Kingdom     12   \n",
              "\n",
              "   Expenditure  \n",
              "0        15.30  \n",
              "1        20.34  \n",
              "2        22.00  \n",
              "3        20.34  \n",
              "4        20.34  "
            ]
          },
          "execution_count": 19,
          "metadata": {},
          "output_type": "execute_result"
        }
      ],
      "source": [
        "df_cleaned.head()"
      ]
    },
    {
      "cell_type": "code",
      "execution_count": null,
      "id": "a6504e60-6090-45aa-8802-9d3bd37ecfbf",
      "metadata": {
        "id": "a6504e60-6090-45aa-8802-9d3bd37ecfbf"
      },
      "outputs": [],
      "source": [
        "new_df=df_cleaned[df_cleaned['Country']=='United Kingdom']"
      ]
    },
    {
      "cell_type": "code",
      "execution_count": null,
      "id": "0bd85bde-4bc7-4b67-a682-4f1734af49fd",
      "metadata": {
        "id": "0bd85bde-4bc7-4b67-a682-4f1734af49fd",
        "outputId": "e0601ed6-ff08-477e-c969-66ba57882190"
      },
      "outputs": [
        {
          "data": {
            "text/plain": [
              "(354345, 10)"
            ]
          },
          "execution_count": 23,
          "metadata": {},
          "output_type": "execute_result"
        }
      ],
      "source": [
        "new_df.shape"
      ]
    },
    {
      "cell_type": "code",
      "execution_count": null,
      "id": "2e5fad26-4368-426c-b2b6-be2ec5ded447",
      "metadata": {
        "id": "2e5fad26-4368-426c-b2b6-be2ec5ded447"
      },
      "outputs": [],
      "source": [
        "new_df=df_cleaned.groupby('Month').agg({\n",
        "  'Expenditure'  : 'sum',\n",
        "    'InvoiceNo' : 'count'\n",
        "})"
      ]
    },
    {
      "cell_type": "code",
      "execution_count": null,
      "id": "e9b50b24-7646-4840-914b-e5b30f9f030d",
      "metadata": {
        "id": "e9b50b24-7646-4840-914b-e5b30f9f030d"
      },
      "outputs": [],
      "source": [
        "new_df.rename(columns={\n",
        "    'InvoiceNo':'Total Invoices',\n",
        "    'Expenditure':'Total Expenditure',\n",
        "\n",
        "},inplace=True)"
      ]
    },
    {
      "cell_type": "code",
      "execution_count": null,
      "id": "8b48cc35-9958-4c59-ba82-c872cd785052",
      "metadata": {
        "id": "8b48cc35-9958-4c59-ba82-c872cd785052"
      },
      "outputs": [],
      "source": [
        "\n",
        "new_df['Average Invoice Value']=new_df['Total Expenditure']/new_df['Total Invoices']"
      ]
    },
    {
      "cell_type": "code",
      "execution_count": null,
      "id": "29574f9f-5278-42e7-bd87-4e0d64d674f5",
      "metadata": {
        "id": "29574f9f-5278-42e7-bd87-4e0d64d674f5",
        "outputId": "445a7fbd-5c16-4b5f-d00e-2158503ed789"
      },
      "outputs": [
        {
          "data": {
            "text/html": [
              "<div>\n",
              "<style scoped>\n",
              "    .dataframe tbody tr th:only-of-type {\n",
              "        vertical-align: middle;\n",
              "    }\n",
              "\n",
              "    .dataframe tbody tr th {\n",
              "        vertical-align: top;\n",
              "    }\n",
              "\n",
              "    .dataframe thead th {\n",
              "        text-align: right;\n",
              "    }\n",
              "</style>\n",
              "<table border=\"1\" class=\"dataframe\">\n",
              "  <thead>\n",
              "    <tr style=\"text-align: right;\">\n",
              "      <th></th>\n",
              "      <th>Total Expenditure</th>\n",
              "      <th>Total Invoices</th>\n",
              "      <th>Average Invoice Value</th>\n",
              "    </tr>\n",
              "    <tr>\n",
              "      <th>Month</th>\n",
              "      <th></th>\n",
              "      <th></th>\n",
              "      <th></th>\n",
              "    </tr>\n",
              "  </thead>\n",
              "  <tbody>\n",
              "    <tr>\n",
              "      <th>1</th>\n",
              "      <td>569445.040</td>\n",
              "      <td>21232</td>\n",
              "      <td>26.820132</td>\n",
              "    </tr>\n",
              "    <tr>\n",
              "      <th>2</th>\n",
              "      <td>447137.350</td>\n",
              "      <td>19928</td>\n",
              "      <td>22.437643</td>\n",
              "    </tr>\n",
              "    <tr>\n",
              "      <th>3</th>\n",
              "      <td>595500.760</td>\n",
              "      <td>27177</td>\n",
              "      <td>21.911939</td>\n",
              "    </tr>\n",
              "    <tr>\n",
              "      <th>4</th>\n",
              "      <td>469200.361</td>\n",
              "      <td>22644</td>\n",
              "      <td>20.720737</td>\n",
              "    </tr>\n",
              "    <tr>\n",
              "      <th>5</th>\n",
              "      <td>678594.560</td>\n",
              "      <td>28322</td>\n",
              "      <td>23.959980</td>\n",
              "    </tr>\n",
              "    <tr>\n",
              "      <th>6</th>\n",
              "      <td>661213.690</td>\n",
              "      <td>27185</td>\n",
              "      <td>24.322740</td>\n",
              "    </tr>\n",
              "    <tr>\n",
              "      <th>7</th>\n",
              "      <td>600091.011</td>\n",
              "      <td>26827</td>\n",
              "      <td>22.368920</td>\n",
              "    </tr>\n",
              "    <tr>\n",
              "      <th>8</th>\n",
              "      <td>645343.900</td>\n",
              "      <td>27013</td>\n",
              "      <td>23.890123</td>\n",
              "    </tr>\n",
              "    <tr>\n",
              "      <th>9</th>\n",
              "      <td>952838.382</td>\n",
              "      <td>40030</td>\n",
              "      <td>23.803107</td>\n",
              "    </tr>\n",
              "    <tr>\n",
              "      <th>10</th>\n",
              "      <td>1039318.790</td>\n",
              "      <td>49557</td>\n",
              "      <td>20.972189</td>\n",
              "    </tr>\n",
              "    <tr>\n",
              "      <th>11</th>\n",
              "      <td>1161817.380</td>\n",
              "      <td>64545</td>\n",
              "      <td>18.000114</td>\n",
              "    </tr>\n",
              "    <tr>\n",
              "      <th>12</th>\n",
              "      <td>1090906.680</td>\n",
              "      <td>43464</td>\n",
              "      <td>25.099086</td>\n",
              "    </tr>\n",
              "  </tbody>\n",
              "</table>\n",
              "</div>"
            ],
            "text/plain": [
              "       Total Expenditure  Total Invoices  Average Invoice Value\n",
              "Month                                                          \n",
              "1             569445.040           21232              26.820132\n",
              "2             447137.350           19928              22.437643\n",
              "3             595500.760           27177              21.911939\n",
              "4             469200.361           22644              20.720737\n",
              "5             678594.560           28322              23.959980\n",
              "6             661213.690           27185              24.322740\n",
              "7             600091.011           26827              22.368920\n",
              "8             645343.900           27013              23.890123\n",
              "9             952838.382           40030              23.803107\n",
              "10           1039318.790           49557              20.972189\n",
              "11           1161817.380           64545              18.000114\n",
              "12           1090906.680           43464              25.099086"
            ]
          },
          "execution_count": 68,
          "metadata": {},
          "output_type": "execute_result"
        }
      ],
      "source": [
        "new_df"
      ]
    },
    {
      "cell_type": "code",
      "execution_count": null,
      "id": "3373751b-e8ad-4f73-ab22-9c5db3060d73",
      "metadata": {
        "id": "3373751b-e8ad-4f73-ab22-9c5db3060d73",
        "outputId": "c3b15ede-0489-46a5-b1bf-c233d154cbe8"
      },
      "outputs": [
        {
          "data": {
            "text/plain": [
              "Index(['Total Expenditure', 'Total Invoices', 'Average Invoice Value'], dtype='object')"
            ]
          },
          "execution_count": 74,
          "metadata": {},
          "output_type": "execute_result"
        }
      ],
      "source": [
        "eww=new_df['Average']"
      ]
    },
    {
      "cell_type": "code",
      "execution_count": null,
      "id": "d4f282cb-a170-4f94-a44c-42f1ea2fb68c",
      "metadata": {
        "id": "d4f282cb-a170-4f94-a44c-42f1ea2fb68c",
        "outputId": "3f161e01-5861-4056-f671-78adb965506d"
      },
      "outputs": [
        {
          "data": {
            "image/png": "[encoded data removed]",
            "text/plain": [
              "<Figure size 1000x600 with 1 Axes>"
            ]
          },
          "metadata": {},
          "output_type": "display_data"
        }
      ],
      "source": [
        "plt.figure(figsize=(10,6))\n",
        "new_df['Average Invoice Value'].plot(kind='line', marker='o', title='Avg Sales Per item Over Time (Year-Month)')\n",
        "plt.ylabel('Average Item Value')\n",
        "plt.xlabel('Year-Month')\n",
        "plt.show()\n"
      ]
    },
    {
      "cell_type": "code",
      "execution_count": null,
      "id": "006355de-552f-4687-9196-9c5488a0e3e6",
      "metadata": {
        "id": "006355de-552f-4687-9196-9c5488a0e3e6"
      },
      "outputs": [],
      "source": []
    }
  ],
  "metadata": {
    "kernelspec": {
      "display_name": "Python 3 (ipykernel)",
      "language": "python",
      "name": "python3"
    },
    "language_info": {
      "codemirror_mode": {
        "name": "ipython",
        "version": 3
      },
      "file_extension": ".py",
      "mimetype": "text/x-python",
      "name": "python",
      "nbconvert_exporter": "python",
      "pygments_lexer": "ipython3",
      "version": "3.12.4"
    },
    "colab": {
      "provenance": [],
      "include_colab_link": true
    }
  },
  "nbformat": 4,
  "nbformat_minor": 5
}